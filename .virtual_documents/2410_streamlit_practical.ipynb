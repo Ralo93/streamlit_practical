#inspired by cristina melnic
#clone the repo
# create new environment with python, streamlit, jupyter lab


# Create a new conda environment named 241018_streamlit_practical with Python in the terminal
#conda create --name 241018_streamlit_practical python=3.11 -y

# Activate the new environment
#conda activate 241018_streamlit_practical

# Install Streamlit and JupyterLab
#conda install -c conda-forge streamlit jupyterlab -y

#open jupyter lab
#jupyter lab




import streamlit as st
st.write("Worldwide Analysis of Quality of Life and Economic Factors")



streamlit run app.py


# create new repo on github, clone into your local computer, work in the repo folder
# create requirements.txt file and keep track of all package installations you do
# create practical.py file from now on all code goes into the practical.py file
#import streamlit as st
#st.write("Worldwide Analysis of Quality of Life and Economic Factors")
#!streamlit run practical.py

#click always rerun in the streamlit app; split screen to see vscode and browser with streamlit at the same time

#resources: ChatGPT and https://docs.streamlit.io/develop/api-reference


#task 1
#write headline as header "Worldwide Analysis of Quality of Life and Economic Factors"
#write subtitle "This app enables you to explore the relationships between poverty, 
#            life expectancy, and GDP across various countries and years. 
#            Use the panels to select options and interact with the data."
#use the whole width of the page
#create 3 tabs called ""Global Overview", "Country Deep Dive", "Data Explorer"
#


#taks 2 in tab 3
#use global_development_data.csv which is a cleaned merge of those 3 datasets

#poverty_url = 'https://raw.githubusercontent.com/owid/poverty-data/main/datasets/pip_dataset.csv'
#life_exp_url = "https://raw.githubusercontent.com/owid/owid-datasets/master/datasets/Healthy%20Life%20Expectancy%20-%20IHME/Healthy%20Life%20Expectancy%20-%20IHME.csv"
#gdp_url = 'https://raw.githubusercontent.com/owid/owid-datasets/master/datasets/Maddison%20Project%20Database%202020%20(Bolt%20and%20van%20Zanden%20(2020))/Maddison%20Project%20Database%202020%20(Bolt%20and%20van%20Zanden%20(2020)).csv'
    
#show the dataset in the 3rd tab
#read in the dataset and show it
#include a multiselectbox to select the country names
#include a slider to select the year range
#make the filtered dataset downloadable


#task 3: deployment: deploy the app on streamlit cloud (see readme: create own github repo with practical.py file and requirements.txt, connect the github to streamlit cloud)


#task 4 in tab 1
#create a slider to select a certain year, filter the dataset accordingly
#create 4 key metrics in 4 columns each with a description: 
#col1: mean of life expectancy; 
#col2: median of GDP per capita; 
#col3: mean of headcount_ratio_upper_mid_income_povline; 
#col4: Number of countries


#task 5 in tab 1: in terminal conda install -c plotly plotly
#create a scatterplot of the dataframe filtered according to the slider: x=GDP per capita, y = Life Expectancy (IHME) with hover, log, size, color, title, labels
#you might store the code in an extra plots.py file


#task 6 in tab 1: create a simple model (conda install scikit-learn -y; Randomforest Regressor): features only 3 columns: ['GDP per capita', 'headcount_ratio_upper_mid_income_povline', 'year']; target: 'Life Expectancy (IHME)'
#you might store the code in an extra model.py file
#make input fields for inference of the features (according to existing values in the dataset) and use the model to predict the life expectancy for the input values
#additional: show the feature importance as a bar plot


#task 7 in tab 1: create a map plot like the demo in hello streamlit with 3D bars. use chatgpt or similar to create lat and lon values for each country (e.g. capital as reference)


#task 8 in tab 2: create a filter for the dataset for countries
#show a scatterplot (as line chart): for life expectancy over the year
#additional: create a second line in the chart showing the GDP (extra ax ticks)



